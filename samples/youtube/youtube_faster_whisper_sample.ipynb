{
 "cells": [
  {
   "cell_type": "markdown",
   "metadata": {},
   "source": [
    "# 간단 예시: YouTube → Faster Whisper\n",
    "이 노트북은 **간단하게** YouTube 동영상을 다운로드하고, `faster-whisper`로 텍스트를 추출하는 과정을 보여줍니다.\n",
    "내부 복잡한 설정(beam size, temperature 등)은 기본값으로 둡니다.\n"
   ]
  },
  {
   "cell_type": "code",
   "execution_count": null,
   "metadata": {},
   "outputs": [],
   "source": [
    "import sys\n",
    "sys.path.append(\"../..\")  # stt_module 디렉토리 접근 경로\n",
    "\n",
    "from stt_module.faster_whisper_utils import (\n",
    "    download_audio_from_youtube,\n",
    "    transcribe_with_faster_whisper\n",
    ")\n",
    "\n",
    "youtube_url = \"https://www.youtube.com/watch?v=XXXX\"\n",
    "audio_file_path = download_audio_from_youtube(youtube_url, out_dir=\"./samples/youtube\")\n",
    "\n",
    "# 기본 설정으로 전사\n",
    "transcribe_with_faster_whisper(\n",
    "    audio_path=audio_file_path,\n",
    "    model_name=\"small\",\n",
    "    output_formats=[\"txt\"],\n",
    "    output_dir=\"./outputs/youtube_text_sample\"\n",
    ")\n"
   ]
  }
 ],
 "metadata": {
  "language_info": {
   "name": "python"
  }
 },
 "nbformat": 4,
 "nbformat_minor": 2
}
